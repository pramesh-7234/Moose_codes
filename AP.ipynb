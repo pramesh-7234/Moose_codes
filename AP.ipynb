{
 "cells": [
  {
   "cell_type": "code",
   "execution_count": 1,
   "id": "7972881a-1d91-4448-990f-60ef6ef590e5",
   "metadata": {},
   "outputs": [],
   "source": [
    "import moose\n",
    "import numpy as np\n",
    "import matplotlib.pyplot as plt\n",
    "import pandas as pd\n",
    "import seaborn as sns\n",
    "import plotly.express as px\n",
    "from mpl_toolkits.mplot3d import Axes3D\n",
    "from scipy.interpolate import griddata\n",
    "import plotly.graph_objects as go"
   ]
  },
  {
   "cell_type": "code",
   "execution_count": 2,
   "id": "ab123c83-cb03-4e67-b4b1-6dc7ed3fcf6c",
   "metadata": {},
   "outputs": [],
   "source": [
    "container=moose.Neutral('/sim')\n",
    "model=moose.Neutral(f'{container.path}/model')\n",
    "data=moose.Neutral(f'{container.path}/data')\n",
    "axon=moose.Compartment(f'{model.path}/axon')"
   ]
  },
  {
   "cell_type": "code",
   "execution_count": 3,
   "id": "fffb401d-85d4-43ae-98ba-936e10caa8c6",
   "metadata": {},
   "outputs": [
    {
     "data": {
      "text/plain": [
       "<moose.SingleMsg id=5 dataIndex=0 path=/Msgs[0]/singleMsg[0]>"
      ]
     },
     "execution_count": 3,
     "metadata": {},
     "output_type": "execute_result"
    }
   ],
   "source": [
    "kchan=moose.HHChannel(f'{axon.path}/K')\n",
    "moose.connect(kchan,'channel',axon,'channel')"
   ]
  },
  {
   "cell_type": "code",
   "execution_count": 4,
   "id": "f019b908-2a92-47a8-b74a-8b67900d59a9",
   "metadata": {},
   "outputs": [],
   "source": [
    "axon.Em=0\n",
    "axon.initVm=0\n",
    "axon.Cm=1\n",
    "axon.Rm=1/0.3"
   ]
  },
  {
   "cell_type": "code",
   "execution_count": 5,
   "id": "ab4382ad-1038-4846-96d1-07ca3d719636",
   "metadata": {},
   "outputs": [
    {
     "data": {
      "text/plain": [
       "True"
      ]
     },
     "execution_count": 5,
     "metadata": {},
     "output_type": "execute_result"
    }
   ],
   "source": [
    "# Setting up the K channel\n",
    "\n",
    "kchan.Ek=-12\n",
    "kchan.Gbar=36\n",
    "kchan.Xpower=4\n",
    "\n",
    "n_gate=moose.HHGate(f'{kchan.path}/gateX')\n",
    "n_alpha_params=[0.1, -0.01, -1.0, -10.0, -10.0]\n",
    "n_beta_params=[0.125, 0, 0, 0, 80.0]\n",
    "\n",
    "vdivs=150\n",
    "vmin=-30\n",
    "vmax=120\n",
    "\n",
    "n_params=n_alpha_params+n_beta_params+[vdivs,vmin,vmax]\n",
    "n_gate.setupAlpha(n_params)"
   ]
  },
  {
   "cell_type": "code",
   "execution_count": 6,
   "id": "377c7ab8-2c13-4a92-b291-84b9af9f102d",
   "metadata": {},
   "outputs": [
    {
     "data": {
      "text/plain": [
       "True"
      ]
     },
     "execution_count": 6,
     "metadata": {},
     "output_type": "execute_result"
    }
   ],
   "source": [
    "# Setting up the Na gate\n",
    "\n",
    "nachan=moose.HHChannel(f'{axon.path}/Na')\n",
    "moose.connect(nachan,'channel',axon,'channel')\n",
    "\n",
    "nachan.Ek=115\n",
    "nachan.Gbar=120\n",
    "nachan.Xpower=3\n",
    "nachan.Ypower=1\n",
    "\n",
    "m_gate=moose.HHGate(f'{nachan.path}/gateX')\n",
    "h_gate=moose.HHGate(f'{nachan.path}/gateY')\n",
    "\n",
    "m_alpha_params=[2.5, -0.1, -1.0, -25.0, -10.0]\n",
    "m_beta_params=[4, 0, 0, 0, 18.0]\n",
    "\n",
    "h_alpha_params=[0.07, 0, 0, 0, 20.0]\n",
    "h_beta_params=[1, 0, 1, -30, -10.0]\n",
    "\n",
    "\n",
    "m_params=m_alpha_params+m_beta_params+[vdivs,vmin,vmax]\n",
    "h_params=h_alpha_params+h_beta_params+[vdivs,vmin,vmax]\n",
    "m_gate.setupAlpha(m_params)\n",
    "h_gate.setupAlpha(h_params)"
   ]
  },
  {
   "cell_type": "code",
   "execution_count": 7,
   "id": "49be0e0a-a59a-442b-8390-1e3150974a95",
   "metadata": {},
   "outputs": [
    {
     "data": {
      "text/plain": [
       "<moose.SingleMsg id=5 dataIndex=2 path=/Msgs[0]/singleMsg[2]>"
      ]
     },
     "execution_count": 7,
     "metadata": {},
     "output_type": "execute_result"
    }
   ],
   "source": [
    "\n",
    "pulse=moose.PulseGen(f'{model.path}/pulse')\n",
    "moose.connect(pulse,'output',axon,'injectMsg')"
   ]
  },
  {
   "cell_type": "code",
   "execution_count": 8,
   "id": "c165cc5a-b6ab-4efd-b946-5b31f7de3a25",
   "metadata": {},
   "outputs": [],
   "source": [
    "pulse.baseLevel=0\n",
    "pulse.width[0]=90\n",
    "pulse.delay[0]=10"
   ]
  },
  {
   "cell_type": "code",
   "execution_count": 9,
   "id": "d7fc05c7-9749-487a-8db7-53ba2a3a0096",
   "metadata": {},
   "outputs": [
    {
     "data": {
      "text/plain": [
       "<moose.SingleMsg id=5 dataIndex=5 path=/Msgs[0]/singleMsg[5]>"
      ]
     },
     "execution_count": 9,
     "metadata": {},
     "output_type": "execute_result"
    }
   ],
   "source": [
    "gK_tab=moose.Table(f'{data.path}/K')\n",
    "gNa_tab=moose.Table(f'{data.path}/Na')\n",
    "Vm_tab=moose.Table(f'{data.path}/Vm')\n",
    "moose.connect(gK_tab,'requestOut',kchan,'getGk')\n",
    "moose.connect(gNa_tab,'requestOut',nachan,'getGk')\n",
    "moose.connect(Vm_tab,'requestOut',axon,'getVm')"
   ]
  },
  {
   "cell_type": "code",
   "execution_count": 10,
   "id": "696825e2-3b52-4907-9922-1a41daaecb7b",
   "metadata": {},
   "outputs": [
    {
     "data": {
      "text/plain": [
       "<moose.SingleMsg id=5 dataIndex=8 path=/Msgs[0]/singleMsg[8]>"
      ]
     },
     "execution_count": 10,
     "metadata": {},
     "output_type": "execute_result"
    }
   ],
   "source": [
    "n_tab=moose.Table(f'{data.path}/n_particle')\n",
    "moose.connect(n_tab,'requestOut',kchan,'getX')\n",
    "m_tab=moose.Table(f'{data.path}/m_particle')\n",
    "moose.connect(m_tab,'requestOut',nachan,'getX')\n",
    "h_tab=moose.Table(f'{data.path}/h_particle')\n",
    "moose.connect(h_tab,'requestOut',nachan,'getY')"
   ]
  },
  {
   "cell_type": "code",
   "execution_count": 11,
   "id": "815889d0-9c21-49d5-a129-a7a43776e5c4",
   "metadata": {},
   "outputs": [],
   "source": [
    "def run_simulation(I_inj):\n",
    "    pulse.level[0]=I_inj\n",
    "    simtime=110\n",
    "    moose.reinit()\n",
    "    moose.start(simtime)\n",
    "\n",
    "    globals()['t']=np.arange(len(Vm_tab.vector))*Vm_tab.dt"
   ]
  },
  {
   "cell_type": "code",
   "execution_count": null,
   "id": "1fea5ef8-dbc0-44b3-8b05-4d2a0833f7e9",
   "metadata": {},
   "outputs": [],
   "source": []
  },
  {
   "cell_type": "code",
   "execution_count": null,
   "id": "b37733de-3742-4f88-8029-019e0ce1670b",
   "metadata": {},
   "outputs": [],
   "source": []
  },
  {
   "cell_type": "code",
   "execution_count": null,
   "id": "118244cb-3bc2-426e-9469-c448ce7ec4a5",
   "metadata": {},
   "outputs": [],
   "source": []
  }
 ],
 "metadata": {
  "kernelspec": {
   "display_name": "Python (moose)",
   "language": "python",
   "name": "moose"
  },
  "language_info": {
   "codemirror_mode": {
    "name": "ipython",
    "version": 3
   },
   "file_extension": ".py",
   "mimetype": "text/x-python",
   "name": "python",
   "nbconvert_exporter": "python",
   "pygments_lexer": "ipython3",
   "version": "3.12.10"
  }
 },
 "nbformat": 4,
 "nbformat_minor": 5
}
